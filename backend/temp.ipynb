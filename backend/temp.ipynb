{
 "cells": [
  {
   "cell_type": "code",
   "execution_count": 2,
   "metadata": {},
   "outputs": [
    {
     "name": "stdout",
     "output_type": "stream",
     "text": [
      "{'refresh_token': '25.916ec8c1b1bbd55aff32d2fa29f5451a.315360000.1999491621.282335-33571003', 'expires_in': 2592000, 'session_key': '9mzdDcTgKnIZd8z6sbniDrxAS3FF9xSo7lyCB6BtzDHfSBryitmw+QDHceHOui5ReJ1GS+EcV9eT2oLKUDKHmnN8raHuIw==', 'access_token': '24.62c036a21b934eb43339eb6ade055115.2592000.1686723621.282335-33571003', 'scope': 'public brain_all_scope vis-faceverify_faceverify_h5-face-liveness vis-faceverify_FACE_V3 vis-faceverify_idl_face_merge vis-faceverify_FACE_EFFECT vis-faceverify_face_beauty vis-faceverify_face_feature_sdk brain_face_scene_scope wise_adapt lebo_resource_base lightservice_public hetu_basic lightcms_map_poi kaidian_kaidian ApsMisTest_Test权限 vis-classify_flower lpq_开放 cop_helloScope ApsMis_fangdi_permission smartapp_snsapi_base smartapp_mapp_dev_manage iop_autocar oauth_tp_app smartapp_smart_game_openapi oauth_sessionkey smartapp_swanid_verify smartapp_opensource_openapi smartapp_opensource_recapi fake_face_detect_开放Scope vis-ocr_虚拟人物助理 idl-video_虚拟人物助理 smartapp_component smartapp_search_plugin avatar_video_test b2b_tp_openapi b2b_tp_openapi_online smartapp_gov_aladin_to_xcx', 'session_secret': 'e4bac0dfef4c48e7108cebfee1a892c5'}\n"
     ]
    }
   ],
   "source": [
    " # encoding:utf-8\n",
    "import requests \n",
    "\n",
    "# client_id 为官网获取的AK， client_secret 为官网获取的SK\n",
    "host = 'https://aip.baidubce.com/oauth/2.0/token?grant_type=client_credentials&client_id=Mwjv3tvEVrWRKNvzMuuzPBPw&client_secret=4t5yL1YTuCGocYnVHERMqlzzrX1Zhpxl'\n",
    "response = requests.get(host)\n",
    "if response:\n",
    "    print(response.json())"
   ]
  },
  {
   "cell_type": "code",
   "execution_count": 3,
   "metadata": {},
   "outputs": [],
   "source": [
    "def img_to_base64(slef, path):\n",
    "    #图片转化为base64\n",
    "    with open(path, 'rb') as f:\n",
    "        image = f.read()\n",
    "        image_base64 = str(base64.b64encode(image), encoding='utf-8')\n",
    "    return image_base64"
   ]
  },
  {
   "cell_type": "code",
   "execution_count": 6,
   "metadata": {},
   "outputs": [
    {
     "name": "stdout",
     "output_type": "stream",
     "text": [
      "第1张图片：\n",
      "{'error_code': 0, 'error_msg': 'SUCCESS', 'log_id': 1646716203, 'timestamp': 1684142846, 'cached': 0, 'result': {'face_num': 1, 'face_list': [{'face_token': '104cef11499f493cc28059f20d974d38', 'location': {'left': 259.16, 'top': 410.11, 'width': 544, 'height': 512, 'rotation': 0}, 'face_probability': 1, 'angle': {'yaw': 3.08, 'pitch': 13.36, 'roll': -3.42}, 'gender': {'type': 'male', 'probability': 1}, 'age': 29, 'beauty': 83.27, 'race': {'type': 'white', 'probability': 1}, 'emotion': {'type': 'neutral', 'probability': 0.96}, 'face_shape': {'type': 'oval', 'probability': 0.75}, 'landmark': [{'x': 390.48, 'y': 478.35}, {'x': 640.93, 'y': 476.91}, {'x': 501.43, 'y': 634.96}, {'x': 508.76, 'y': 759.01}], 'landmark72': [{'x': 258.96, 'y': 452.68}, {'x': 268.21, 'y': 539.4}, {'x': 284.3, 'y': 626.8}, {'x': 300.2, 'y': 714.38}, {'x': 341.04, 'y': 806.49}, {'x': 419.87, 'y': 891.54}, {'x': 506.98, 'y': 921.42}, {'x': 601.32, 'y': 900.26}, {'x': 693.61, 'y': 823.23}, {'x': 751.16, 'y': 727.15}, {'x': 772.05, 'y': 634.61}, {'x': 790.9, 'y': 542.06}, {'x': 803.72, 'y': 448.88}, {'x': 332.74, 'y': 485.36}, {'x': 358.49, 'y': 467.55}, {'x': 388.21, 'y': 462.91}, {'x': 418.13, 'y': 469.98}, {'x': 444.82, 'y': 494.85}, {'x': 417.1, 'y': 499.51}, {'x': 385.8, 'y': 504.15}, {'x': 354.94, 'y': 498.33}, {'x': 390.48, 'y': 478.35}, {'x': 284.83, 'y': 443.54}, {'x': 325.06, 'y': 410.44}, {'x': 371.55, 'y': 414.69}, {'x': 414.55, 'y': 424.96}, {'x': 455.39, 'y': 454.97}, {'x': 410.7, 'y': 451.35}, {'x': 367.98, 'y': 444.43}, {'x': 324.91, 'y': 441.11}, {'x': 580.35, 'y': 494.23}, {'x': 606.6, 'y': 469.58}, {'x': 637.03, 'y': 461.75}, {'x': 668.19, 'y': 466.38}, {'x': 696.14, 'y': 483.73}, {'x': 672.11, 'y': 497.02}, {'x': 639.54, 'y': 502.54}, {'x': 608.61, 'y': 499.25}, {'x': 640.93, 'y': 476.91}, {'x': 560.5, 'y': 453.1}, {'x': 604.25, 'y': 421.87}, {'x': 649.21, 'y': 411.28}, {'x': 699.93, 'y': 407.73}, {'x': 746.83, 'y': 440.65}, {'x': 701.06, 'y': 437.68}, {'x': 653.33, 'y': 441.67}, {'x': 607.06, 'y': 449.19}, {'x': 472.97, 'y': 498.06}, {'x': 464.19, 'y': 549.68}, {'x': 454.64, 'y': 602.98}, {'x': 443.03, 'y': 655.68}, {'x': 470.19, 'y': 661.2}, {'x': 541.3, 'y': 660.03}, {'x': 574.51, 'y': 655.38}, {'x': 560.14, 'y': 602.15}, {'x': 551.1, 'y': 550.15}, {'x': 543.95, 'y': 497.92}, {'x': 501.43, 'y': 634.96}, {'x': 420.95, 'y': 753.16}, {'x': 461.88, 'y': 738.25}, {'x': 507.41, 'y': 739.82}, {'x': 556.85, 'y': 738.96}, {'x': 604.76, 'y': 755.19}, {'x': 559.62, 'y': 782.92}, {'x': 506.22, 'y': 792.84}, {'x': 456.43, 'y': 781.12}, {'x': 463.45, 'y': 757.33}, {'x': 507.24, 'y': 761.61}, {'x': 554.43, 'y': 758.04}, {'x': 552.7, 'y': 755.55}, {'x': 506.41, 'y': 756.22}, {'x': 464.34, 'y': 755.2}]}]}}\n",
      "人脸表情： neutral\n",
      "人物年龄： 29\n",
      "人物颜值评分： 83.27\n",
      "人物性别： male\n",
      "人物种族： white\n",
      "83.27\n",
      "第2张图片：\n",
      "{'error_code': 0, 'error_msg': 'SUCCESS', 'log_id': 1647718404, 'timestamp': 1684142847, 'cached': 0, 'result': {'face_num': 1, 'face_list': [{'face_token': '627b59bfa9687946fc2f2f46ba45731d', 'location': {'left': 129.44, 'top': 350.86, 'width': 513, 'height': 486, 'rotation': -1}, 'face_probability': 1, 'angle': {'yaw': -2.97, 'pitch': 20.54, 'roll': -4.41}, 'gender': {'type': 'female', 'probability': 1}, 'age': 22, 'beauty': 74.81, 'race': {'type': 'yellow', 'probability': 1}, 'emotion': {'type': 'neutral', 'probability': 1}, 'face_shape': {'type': 'heart', 'probability': 0.59}, 'landmark': [{'x': 273.73, 'y': 442.17}, {'x': 494.88, 'y': 438.01}, {'x': 384.44, 'y': 598.87}, {'x': 389.79, 'y': 698.92}], 'landmark72': [{'x': 130.37, 'y': 400.95}, {'x': 141.54, 'y': 481.63}, {'x': 160.67, 'y': 563.55}, {'x': 184.38, 'y': 645.15}, {'x': 233.01, 'y': 728.89}, {'x': 311.42, 'y': 804.94}, {'x': 394.08, 'y': 831.55}, {'x': 475.94, 'y': 802.02}, {'x': 553.89, 'y': 724.4}, {'x': 600.09, 'y': 637.86}, {'x': 619.2, 'y': 554.59}, {'x': 634.91, 'y': 471.19}, {'x': 643.42, 'y': 388.59}, {'x': 217.59, 'y': 443.59}, {'x': 241.97, 'y': 427.9}, {'x': 269.15, 'y': 424.29}, {'x': 295.65, 'y': 432.84}, {'x': 317.16, 'y': 460.9}, {'x': 292.51, 'y': 464.31}, {'x': 263.75, 'y': 466.79}, {'x': 236.41, 'y': 458.43}, {'x': 273.73, 'y': 442.17}, {'x': 176.39, 'y': 376.93}, {'x': 213.55, 'y': 349.88}, {'x': 253.09, 'y': 353.63}, {'x': 288.48, 'y': 363.03}, {'x': 322.86, 'y': 389.39}, {'x': 285.14, 'y': 385.02}, {'x': 249.56, 'y': 378.19}, {'x': 212.57, 'y': 373.56}, {'x': 447.72, 'y': 458.83}, {'x': 467.7, 'y': 430.49}, {'x': 493.88, 'y': 420.1}, {'x': 522.18, 'y': 422.26}, {'x': 547.35, 'y': 436.84}, {'x': 528.85, 'y': 453.39}, {'x': 501.67, 'y': 462.23}, {'x': 472.46, 'y': 461.17}, {'x': 494.88, 'y': 438.01}, {'x': 436.46, 'y': 387.67}, {'x': 469.76, 'y': 359.21}, {'x': 504.88, 'y': 347.88}, {'x': 545.76, 'y': 342.34}, {'x': 586.42, 'y': 367.5}, {'x': 548.25, 'y': 365.94}, {'x': 510.1, 'y': 372.66}, {'x': 473.96, 'y': 381.33}, {'x': 350.84, 'y': 464.96}, {'x': 344.74, 'y': 516.61}, {'x': 337.37, 'y': 569.52}, {'x': 327.6, 'y': 617.27}, {'x': 355.2, 'y': 622.5}, {'x': 417.55, 'y': 620.33}, {'x': 446.6, 'y': 614.34}, {'x': 433.27, 'y': 567.39}, {'x': 422.79, 'y': 515.57}, {'x': 413.27, 'y': 463.8}, {'x': 384.44, 'y': 598.87}, {'x': 313.55, 'y': 691.72}, {'x': 350.7, 'y': 681.47}, {'x': 388.56, 'y': 681.62}, {'x': 428.01, 'y': 679.56}, {'x': 468.09, 'y': 689.19}, {'x': 434.34, 'y': 719.66}, {'x': 390.39, 'y': 733.49}, {'x': 346.79, 'y': 721.05}, {'x': 351.66, 'y': 697.1}, {'x': 388.48, 'y': 700.32}, {'x': 426.55, 'y': 695.05}, {'x': 427.25, 'y': 696.33}, {'x': 389.39, 'y': 699.93}, {'x': 353.31, 'y': 698.33}]}]}}\n",
      "人脸表情： neutral\n",
      "人物年龄： 22\n",
      "人物颜值评分： 74.81\n",
      "人物性别： female\n",
      "人物种族： yellow\n",
      "74.81\n"
     ]
    }
   ],
   "source": [
    "# encoding:utf-8\n",
    "import base64\n",
    "import json\n",
    "import requests\n",
    "\n",
    "class BaiduAI:\n",
    "    def __init__(self, img):\n",
    "        self.AK = \"Mwjv3tvEVrWRKNvzMuuzPBPw\"#你的应用API Key\n",
    "        self.SK = \"4t5yL1YTuCGocYnVHERMqlzzrX1Zhpxl\"#你的应用Secret Key\n",
    "        self.img_src = img\n",
    "        self.headers = {\n",
    "            \"Content-Type\": \"application/json; charset=UTF-8\"\n",
    "        }\n",
    "\n",
    "    def get_AccessToken(self):\n",
    "        #获取Access Token\n",
    "        host = 'https://aip.baidubce.com/oauth/2.0/token?grant_type=client_credentials&client_id=' + self.AK + '&client_secret=' + self.SK\n",
    "        response = requests.get(host, headers=self.headers)\n",
    "        json_result = json.loads(response.text)\n",
    "        if response:\n",
    "            return json_result['access_token']\n",
    "        else:\n",
    "            print(json_result)\n",
    "            return 0\n",
    "\n",
    "    def img_to_base64(slef, path):\n",
    "        #图片转化为base64\n",
    "        with open(path, 'rb') as f:\n",
    "            image = f.read()\n",
    "            image_base64 = str(base64.b64encode(image), encoding='utf-8')\n",
    "        return image_base64\n",
    "\n",
    "    def face_identification(self):\n",
    "        # 人脸检测与属性分析\n",
    "        img = self.img_to_base64(self.img_src)\n",
    "        request_url = \"https://aip.baidubce.com/rest/2.0/face/v3/detect\"\n",
    "        post_data = {\n",
    "            \"image\": img,\n",
    "            \"image_type\": \"BASE64\",\n",
    "            \"face_field\": \"gender,age,beauty,gender,race,emotion,face_shape,landmark\",#包括age,beauty,expression,face_shape,gender,glasses,landmark,emotion,face_type,mask,spoofing信息\n",
    "            \"face_type\": \"LIVE\"#人脸的类型。LIVE表示生活照，IDCARD表示身份证芯片照，WATERMARK表示带水印证件照，CERT表示证件照片，默认LIVE。\n",
    "        }\n",
    "        access_token = self.get_AccessToken()\n",
    "        request_url = request_url + \"?access_token=\" + access_token\n",
    "        response = requests.post(url=request_url, data=post_data, headers=self.headers)\n",
    "        json_result = json.loads(response.text)\n",
    "        print(json_result)\n",
    "        if json_result['error_code'] == 0:\n",
    "            print(\"人脸表情：\", json_result['result']['face_list'][0]['emotion']['type'])\n",
    "            print(\"人物年龄：\", json_result['result']['face_list'][0]['age'])\n",
    "            print(\"人物颜值评分：\", json_result['result']['face_list'][0]['beauty'])\n",
    "            print(\"人物性别：\", json_result['result']['face_list'][0]['gender']['type'])\n",
    "            print(\"人物种族：\", json_result['result']['face_list'][0]['race']['type'])\n",
    "            \n",
    "            return json_result['result']['face_list'][0]['beauty']\n",
    "            #print(\"人物特征点位置：\", json_result['result']['face_list'][0]['landmark72'])\n",
    "        else:\n",
    "            print(json_result['error_code'])\n",
    "            print(json_result['error_msg'])\n",
    "\n",
    "if __name__ == '__main__':\n",
    "    imglist=['1.png','2.jpg']\n",
    "    for i in range(0,len(imglist)):\n",
    "        print('第{}张图片：'.format(i+1))\n",
    "        demo = BaiduAI(imglist[i])\n",
    "        if(demo.get_AccessToken()):\n",
    "            result=demo.face_identification()\n",
    "            print(result)"
   ]
  }
 ],
 "metadata": {
  "kernelspec": {
   "display_name": "work",
   "language": "python",
   "name": "python3"
  },
  "language_info": {
   "codemirror_mode": {
    "name": "ipython",
    "version": 3
   },
   "file_extension": ".py",
   "mimetype": "text/x-python",
   "name": "python",
   "nbconvert_exporter": "python",
   "pygments_lexer": "ipython3",
   "version": "3.7.16"
  },
  "orig_nbformat": 4
 },
 "nbformat": 4,
 "nbformat_minor": 2
}
